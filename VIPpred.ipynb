{
 "cells": [
  {
   "cell_type": "code",
   "execution_count": 80,
   "id": "f09f23e4",
   "metadata": {
    "ExecuteTime": {
     "end_time": "2023-04-24T05:39:14.282196Z",
     "start_time": "2023-04-24T05:39:14.154196Z"
    }
   },
   "outputs": [],
   "source": [
    "import numpy as np\n",
    "import pandas as pd\n",
    "import os, re\n",
    "import scipy\n",
    "import csv\n",
    "from collections import Counter\n",
    "import pickle\n",
    "from sklearn.metrics.cluster import *\n",
    "from sklearn.metrics import hamming_loss\n",
    "import xgboost as xgb\n",
    "from xgboost import plot_importance"
   ]
  },
  {
   "cell_type": "code",
   "execution_count": null,
   "id": "4f090ca0",
   "metadata": {},
   "outputs": [],
   "source": [
    "import features_evolu\n",
    "import features_public\n",
    "import features_regu\n",
    "import features_stru"
   ]
  },
  {
   "cell_type": "code",
   "execution_count": 12,
   "id": "52985619",
   "metadata": {
    "ExecuteTime": {
     "end_time": "2023-04-24T01:39:16.064325Z",
     "start_time": "2023-04-24T01:39:16.055329Z"
    }
   },
   "outputs": [],
   "source": [
    "# %load_ext jupyternotify\n",
    "pd.set_option('display.max_rows', 100)\n",
    "pd.set_option('display.max_columns', 100)"
   ]
  },
  {
   "cell_type": "code",
   "execution_count": null,
   "id": "a91b3937",
   "metadata": {},
   "outputs": [],
   "source": []
  },
  {
   "cell_type": "markdown",
   "id": "5d10b82d",
   "metadata": {},
   "source": [
    "### Data input"
   ]
  },
  {
   "cell_type": "code",
   "execution_count": 214,
   "id": "ef17b64c",
   "metadata": {
    "ExecuteTime": {
     "end_time": "2023-04-24T07:44:29.767353Z",
     "start_time": "2023-04-24T07:44:29.749354Z"
    }
   },
   "outputs": [],
   "source": [
    "df=pd.read_csv('Example.Input.txt',sep='\\t')"
   ]
  },
  {
   "cell_type": "code",
   "execution_count": 215,
   "id": "aced62b1",
   "metadata": {
    "ExecuteTime": {
     "end_time": "2023-04-24T07:44:30.102360Z",
     "start_time": "2023-04-24T07:44:30.093360Z"
    }
   },
   "outputs": [],
   "source": [
    "df['AAb']=df['AAchange'].apply(lambda x:x[0])\n",
    "df['AAa']=df['AAchange'].apply(lambda x:x[-1])"
   ]
  },
  {
   "cell_type": "code",
   "execution_count": null,
   "id": "8dfbf88f",
   "metadata": {
    "ExecuteTime": {
     "end_time": "2023-04-24T07:44:32.007357Z",
     "start_time": "2023-04-24T07:44:31.978357Z"
    }
   },
   "outputs": [],
   "source": []
  },
  {
   "cell_type": "markdown",
   "id": "bd764b73",
   "metadata": {},
   "source": [
    "### Import cache data"
   ]
  },
  {
   "cell_type": "code",
   "execution_count": 95,
   "id": "a083660b",
   "metadata": {
    "ExecuteTime": {
     "end_time": "2023-04-24T05:48:57.313343Z",
     "start_time": "2023-04-24T05:48:15.272329Z"
    }
   },
   "outputs": [],
   "source": [
    "for pkl in [x for x in os.listdir('cachedata/') if x.split('.')[-1]=='pkl']:\n",
    "    dictN=pkl.split('.')[0]\n",
    "    with open('cachedata/%s'%pkl,'rb') as tf:\n",
    "        globals()[dictN]=pickle.load(tf)"
   ]
  },
  {
   "cell_type": "code",
   "execution_count": null,
   "id": "e7946477",
   "metadata": {
    "ExecuteTime": {
     "end_time": "2023-04-24T06:23:34.591345Z",
     "start_time": "2023-04-24T06:23:34.556347Z"
    },
    "scrolled": true
   },
   "outputs": [],
   "source": []
  },
  {
   "cell_type": "markdown",
   "id": "47e5db92",
   "metadata": {},
   "source": [
    "### Obtain functional score of nsSNVs based on dbNSFP"
   ]
  },
  {
   "cell_type": "code",
   "execution_count": 153,
   "id": "cba07712",
   "metadata": {
    "ExecuteTime": {
     "end_time": "2023-04-24T06:24:41.915185Z",
     "start_time": "2023-04-24T06:24:41.878190Z"
    }
   },
   "outputs": [],
   "source": [
    "with open('cachedata/dfIn/example.vepIn','w') as w:\n",
    "    for i in df[['chr','chrl','NNchange','AAchange']].drop_duplicates().index:\n",
    "        line=df[['chr','chrl','NNchange','AAchange']].loc[i]\n",
    "        w.write(' '.join(line.astype(str)).replace('/',' ')+'\\n')"
   ]
  },
  {
   "cell_type": "markdown",
   "id": "c2ea23a4",
   "metadata": {},
   "source": [
    "* Download dbNSFP v4.3 from http://database.liulab.science/dbNSFP\n",
    "    * CITATION: Liu X, Li C, Mou C, Dong Y, and Tu Y. 2020. dbNSFP v4: a comprehensive database of transcript-specific functional predictions and annotations for human nonsynonymous and splice-site SNVs. Genome Medicine. 12:103.\n",
    "    \n",
    "* Run dbNSFP v4.3\n",
    "    * java -Xmx4g search_dbNSFP43a -i example.vepIn -o example.vepOut -w 1-9,12-18,38-43,100-101,141-142,155-157,162-163\n",
    "    * To speed up dbNSFP v4.3, you can use the -c parameter to limit the result to a specific chromosome, for example, you can use -c 13 for chromosome 13\n",
    "* Place the output result 'example.vepOut' into the path 'cachedata/dfIn/'."
   ]
  },
  {
   "cell_type": "code",
   "execution_count": 147,
   "id": "3aa9fb06",
   "metadata": {
    "ExecuteTime": {
     "end_time": "2023-04-24T06:17:32.588134Z",
     "start_time": "2023-04-24T06:17:32.579138Z"
    }
   },
   "outputs": [],
   "source": [
    "def get_vep(df, vepPath):\n",
    "    df['dnnsfp'] = df.chr.astype(str) + '_' + df.chrl.astype(\n",
    "        str\n",
    "    ) + '_' + df.NNchange + '_' + df.AAchange  #+ '_' + df.snvLoc.astype(str)\n",
    "\n",
    "    dnnsfp = pd.read_csv(vepPath, sep='\\t')\n",
    "    dnnsfp['dnnsfp'] = dnnsfp['#chr'].astype(str) + '_' + dnnsfp[\n",
    "        'pos(1-based)'].astype(str) + '_' + dnnsfp.ref.astype(\n",
    "            str) + '/' + dnnsfp.alt.astype(str) + '_' + dnnsfp.aaref.astype(\n",
    "                str) + '/' + dnnsfp.aaalt.astype(\n",
    "                    str)  # + '_' + dnnsfp.aapos.astype(str)\n",
    "\n",
    "    # dnnsfp['Uniprot'] = dnnsfp.Uniprot_acc.str.split('-', expand=True)[0]\n",
    "    \n",
    "    dnnsfp = dnnsfp[[\n",
    "        'phyloP17way_primate', 'phyloP17way_primate_rankscore',\n",
    "        'BayesDel_addAF_score', 'BayesDel_addAF_rankscore',\n",
    "        'integrated_fitCons_score', 'integrated_fitCons_rankscore',\n",
    "        'GERP++_RS', 'GERP++_RS_rankscore', 'dnnsfp'\n",
    "    ]].drop_duplicates().replace('.',np.nan)\n",
    "    \n",
    "    df = pd.merge(df,\n",
    "                  dnnsfp,\n",
    "                  left_on=['dnnsfp'],\n",
    "                  right_on=['dnnsfp'],\n",
    "                  how='left')\n",
    "    return df"
   ]
  },
  {
   "cell_type": "code",
   "execution_count": 217,
   "id": "8ec59a27",
   "metadata": {
    "ExecuteTime": {
     "end_time": "2023-04-24T07:44:52.624355Z",
     "start_time": "2023-04-24T07:44:52.598356Z"
    }
   },
   "outputs": [],
   "source": [
    "## 'GERP_RS_rankscore', 'phyloP17way_primate_rankscore', 'Integrated_fitCons_rankscore', 'BayesDel_addAF_rankscore',\n",
    "df=get_vep(df, 'cachedata/dfIn/example.vepOut')"
   ]
  },
  {
   "cell_type": "code",
   "execution_count": null,
   "id": "74f6b48d",
   "metadata": {
    "ExecuteTime": {
     "end_time": "2023-04-24T06:01:52.336080Z",
     "start_time": "2023-04-24T06:01:52.301076Z"
    },
    "scrolled": true
   },
   "outputs": [],
   "source": []
  },
  {
   "cell_type": "markdown",
   "id": "b16d3044",
   "metadata": {},
   "source": [
    "### Calculate VIP (variant impact on phosphorylation) features"
   ]
  },
  {
   "cell_type": "code",
   "execution_count": 99,
   "id": "23623f8e",
   "metadata": {
    "ExecuteTime": {
     "end_time": "2023-04-24T05:51:49.731788Z",
     "start_time": "2023-04-24T05:51:49.714786Z"
    }
   },
   "outputs": [],
   "source": [
    "def get_Feature(df):\n",
    "    \n",
    "    ### 'feature_PWM_refpep', 'feature_PWM_varpep', 'feature_PWM_maxdis',\n",
    "    df=features_regu.get_PWM(df)\n",
    "    \n",
    "    ### 'feature_paxdb_log10'\n",
    "    df=features_public.getPaxdb(df)\n",
    "\n",
    "    # ### 'feature_distance_abs', 'feature_length',\n",
    "    df=features_stru.getF_1d(df)\n",
    "\n",
    "    ## 'PSIPRED_ss3H', 'PSIPRED_ss3E', 'PSIPRED_ss3C', 'ASAquick_asa', 'feature_psitesnv_LCD', 'feature_psitesnv_IDR',\n",
    "    df=features_stru.getF_2d(df)\n",
    "\n",
    "    ### 'feature_dist_3d',\n",
    "    df=features_stru.getF_3d(df)\n",
    "\n",
    "    ### 'feature_psite_ptmage0', 'feature_psite_ptmage3', 'feature_pubmed_n',\n",
    "    df=features_evolu.get_ptmage_pubmed(df)\n",
    "\n",
    "    ### 'feature_netpho_max_all', 'feature_netpho_max_kin', 'feature_netpho_max_nokin',\n",
    "    df=features_regu.get_netpho(df)\n",
    "\n",
    "    ### 'feature_psitesnv_ptm21', 'feature_psitesnv_nbt21', 'feature_psitesnv_nbt_score',\n",
    "    df=features_regu.get_ptm21_nbt(df)\n",
    "    df=features_regu.get_Ubi21(df)\n",
    "\n",
    "    ### aaindex_SNVbox\n",
    "    df=features_stru.get_AAindex(df)\n",
    "    \n",
    "    ### 'site_coevolve', \n",
    "    df=features_evolu.get_coevolve(df)\n",
    "\n",
    "    ### 'feature_sift_psite', 'feature_provean_psite',\n",
    "    df=features_evolu.get_sift(df)\n",
    "\n",
    "    ###  Determine whether the phosphorylation site is a known phosphorylation site in PhosphositePLUS or as reported by Ochoa et al.\n",
    "    df=features_public.get_psite_existed(df)\n",
    "    \n",
    "    return df"
   ]
  },
  {
   "cell_type": "code",
   "execution_count": 218,
   "id": "bf70a6c3",
   "metadata": {
    "ExecuteTime": {
     "end_time": "2023-04-24T07:45:52.226385Z",
     "start_time": "2023-04-24T07:44:56.594355Z"
    }
   },
   "outputs": [],
   "source": [
    "df=get_Feature(df)"
   ]
  },
  {
   "cell_type": "code",
   "execution_count": null,
   "id": "453b6d4c",
   "metadata": {},
   "outputs": [],
   "source": []
  },
  {
   "cell_type": "markdown",
   "id": "20e32673",
   "metadata": {},
   "source": [
    "### Predict VIP events based on VIPpred"
   ]
  },
  {
   "cell_type": "code",
   "execution_count": 122,
   "id": "7382bb38",
   "metadata": {
    "ExecuteTime": {
     "end_time": "2023-04-24T06:05:05.082627Z",
     "start_time": "2023-04-24T06:05:05.065625Z"
    }
   },
   "outputs": [],
   "source": [
    "featureList = [\n",
    "    'feature_paxdb_log10',\n",
    "    'feature_length',\n",
    "    'feature_distance_abs',\n",
    "    'ASAquick_asa',\n",
    "    'PSIPRED_ss3H', 'PSIPRED_ss3E', 'PSIPRED_ss3C',\n",
    "    'feature_LCD', 'feature_IDR',\n",
    "    'dist_3d',\n",
    "    'feature_netpho_max_all', 'feature_netpho_max_kin',\n",
    "    'feature_psitesnv_nbt21', \n",
    "    'feature_psitesnv_ptm21',\n",
    "    'AAPolarity', 'AAVolume', 'AAHydrophobicity', 'AAGrantham',\n",
    "    'site_coevolve',\n",
    "    'feature_PWM_varpep', 'feature_PWM_refpep', \n",
    "    'phyloP17way_primate',\n",
    "    'BayesDel_addAF_score',\n",
    "    'integrated_fitCons_score',\n",
    "    'GERP++_RS',\n",
    "    'feature_sift_psite',\n",
    "    'feature_pubmed_MS_LIT', 'feature_pubmed_LT_LIT',\n",
    "    'feature_psite_ptmage0', 'feature_psite_ptmage3',\n",
    "    'feature_psite_existed','feature_psite_ubi21'\n",
    "]"
   ]
  },
  {
   "cell_type": "code",
   "execution_count": 125,
   "id": "aaed64c3",
   "metadata": {
    "ExecuteTime": {
     "end_time": "2023-04-24T06:08:41.434201Z",
     "start_time": "2023-04-24T06:08:41.419206Z"
    }
   },
   "outputs": [],
   "source": [
    "def get_predLabel(df,model,col1,col2,features=featureList):\n",
    "    \n",
    "    ## gain loss都预测一遍\n",
    "    cachedf=df.fillna({\n",
    "        'feature_pubmed_MS_LIT': 0,\n",
    "        'feature_pubmed_LT_LIT': 0,\n",
    "        'feature_psite_ptmage0': 0,\n",
    "        'feature_psite_ptmage3': 0,\n",
    "        'feature_psitesnv_compbias': 0,\n",
    "        'feature_LCD': 0,\n",
    "        'feature_IDR': 0,\n",
    "        'feature_psitesnv_nbt21': 0,\n",
    "        'feature_psitesnv_ptm21': 0,\n",
    "    })\n",
    "    \n",
    "    Xtest = cachedf[features].values\n",
    "    probas = model.predict_proba(Xtest)\n",
    "    print('%s get'%col1)\n",
    "    label = model.predict(Xtest)\n",
    "    print('%s get'%col2)\n",
    "    cachedf[col1]=probas[:, 1]\n",
    "    cachedf[col2]=label\n",
    "    \n",
    "    return cachedf"
   ]
  },
  {
   "cell_type": "code",
   "execution_count": 126,
   "id": "11719888",
   "metadata": {
    "ExecuteTime": {
     "end_time": "2023-04-24T06:09:00.397205Z",
     "start_time": "2023-04-24T06:09:00.390205Z"
    }
   },
   "outputs": [],
   "source": [
    "def getLabel(row,col1,col2,col1s,col2s):\n",
    "    if row[col1]==0 and row[col2]==0:\n",
    "        return 'pairNoimpact'\n",
    "    elif row[col1]==0 and row[col2]==1:\n",
    "        return 'pairLoss'\n",
    "    elif row[col1]==1 and row[col2]==0:\n",
    "        return 'pairGain'\n",
    "    elif row[col1s]>row[col2s]:\n",
    "        return 'pairGain'\n",
    "    elif row[col1s]<row[col2s]:\n",
    "        return 'pairLoss'\n",
    "    else:\n",
    "        print(row.index)"
   ]
  },
  {
   "cell_type": "code",
   "execution_count": 123,
   "id": "65ac239b",
   "metadata": {
    "ExecuteTime": {
     "end_time": "2023-04-24T06:06:46.762168Z",
     "start_time": "2023-04-24T06:06:46.591169Z"
    }
   },
   "outputs": [],
   "source": [
    "## Load VIPpred model\n",
    "modelG=pickle.load(open('modelGain.pickle.dat','rb'))\n",
    "modelL=pickle.load(open('modelLoss.pickle.dat','rb'))"
   ]
  },
  {
   "cell_type": "code",
   "execution_count": 219,
   "id": "78891e17",
   "metadata": {
    "ExecuteTime": {
     "end_time": "2023-04-24T07:45:52.258381Z",
     "start_time": "2023-04-24T07:45:52.228384Z"
    }
   },
   "outputs": [
    {
     "name": "stdout",
     "output_type": "stream",
     "text": [
      "gainScore get\n",
      "gainLabel get\n",
      "lossScore get\n",
      "lossLabel get\n"
     ]
    }
   ],
   "source": [
    "df=get_predLabel(df,modelG,'gainScore','gainLabel')\n",
    "df=get_predLabel(df,modelL,'lossScore','lossLabel')\n",
    "df['VIP_Label']=df.apply(lambda row:getLabel(row,'gainLabel','lossLabel','gainScore','lossScore'),axis=1)"
   ]
  },
  {
   "cell_type": "code",
   "execution_count": 220,
   "id": "d643fe74",
   "metadata": {
    "ExecuteTime": {
     "end_time": "2023-04-24T07:45:56.320382Z",
     "start_time": "2023-04-24T07:45:56.308382Z"
    }
   },
   "outputs": [],
   "source": [
    "## Output\n",
    "df.to_csv('Example.Output.txt',sep='\\t')"
   ]
  },
  {
   "cell_type": "code",
   "execution_count": null,
   "id": "b301a0b2",
   "metadata": {},
   "outputs": [],
   "source": []
  }
 ],
 "metadata": {
  "kernelspec": {
   "display_name": "Python 3",
   "language": "python",
   "name": "python3"
  },
  "language_info": {
   "codemirror_mode": {
    "name": "ipython",
    "version": 3
   },
   "file_extension": ".py",
   "mimetype": "text/x-python",
   "name": "python",
   "nbconvert_exporter": "python",
   "pygments_lexer": "ipython3",
   "version": "3.8.8"
  },
  "toc": {
   "base_numbering": 1,
   "nav_menu": {},
   "number_sections": true,
   "sideBar": true,
   "skip_h1_title": false,
   "title_cell": "Table of Contents",
   "title_sidebar": "Contents",
   "toc_cell": false,
   "toc_position": {
    "height": "calc(100% - 180px)",
    "left": "10px",
    "top": "150px",
    "width": "231px"
   },
   "toc_section_display": true,
   "toc_window_display": true
  }
 },
 "nbformat": 4,
 "nbformat_minor": 5
}
